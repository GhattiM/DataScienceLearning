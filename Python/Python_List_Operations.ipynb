{
 "cells": [
  {
   "cell_type": "markdown",
   "metadata": {},
   "source": [
    "## List Operations"
   ]
  },
  {
   "cell_type": "code",
   "execution_count": 1,
   "metadata": {},
   "outputs": [],
   "source": [
    "my_list = [5,8,7,4,3,4,2,3,1]"
   ]
  },
  {
   "cell_type": "markdown",
   "metadata": {},
   "source": [
    "### List Appending\n",
    "Adds a single element to the end of the list.It does not return the new list, just modifies the original."
   ]
  },
  {
   "cell_type": "code",
   "execution_count": 18,
   "metadata": {},
   "outputs": [],
   "source": [
    "my_list.append(6)"
   ]
  },
  {
   "cell_type": "code",
   "execution_count": 19,
   "metadata": {},
   "outputs": [
    {
     "data": {
      "text/plain": [
       "[5, 8, 7, 4, 3, 4, 2, 3, 1, 'a', 6]"
      ]
     },
     "execution_count": 19,
     "metadata": {},
     "output_type": "execute_result"
    }
   ],
   "source": [
    "my_list"
   ]
  },
  {
   "cell_type": "markdown",
   "metadata": {},
   "source": [
    "### List Clearing\n",
    "The clear() method doesn't take any parameters.The clear() method only empties the given list. It doesn't return any value."
   ]
  },
  {
   "cell_type": "code",
   "execution_count": 20,
   "metadata": {},
   "outputs": [],
   "source": [
    "my_list.clear()"
   ]
  },
  {
   "cell_type": "code",
   "execution_count": 21,
   "metadata": {},
   "outputs": [
    {
     "data": {
      "text/plain": [
       "[]"
      ]
     },
     "execution_count": 21,
     "metadata": {},
     "output_type": "execute_result"
    }
   ],
   "source": [
    "my_list"
   ]
  },
  {
   "cell_type": "code",
   "execution_count": 22,
   "metadata": {},
   "outputs": [],
   "source": [
    "#Initializing list again\n",
    "my_list = [5,8,7,4,3,4,2,3,1]"
   ]
  },
  {
   "cell_type": "markdown",
   "metadata": {},
   "source": [
    "### List Copying\n",
    "The copy() method returns a shallow copy of the list."
   ]
  },
  {
   "cell_type": "code",
   "execution_count": 23,
   "metadata": {},
   "outputs": [],
   "source": [
    "new_list = my_list"
   ]
  },
  {
   "cell_type": "code",
   "execution_count": 24,
   "metadata": {},
   "outputs": [],
   "source": [
    "new_list.append('a')"
   ]
  },
  {
   "cell_type": "code",
   "execution_count": 25,
   "metadata": {},
   "outputs": [
    {
     "name": "stdout",
     "output_type": "stream",
     "text": [
      "New List: [5, 8, 7, 4, 3, 4, 2, 3, 1, 'a']\n",
      "Old List: [5, 8, 7, 4, 3, 4, 2, 3, 1, 'a']\n"
     ]
    }
   ],
   "source": [
    "print('New List:', new_list )\n",
    "print('Old List:', my_list )"
   ]
  },
  {
   "cell_type": "markdown",
   "metadata": {},
   "source": [
    "If we need the original list unchanged when the new list is modified, we can use copy() method. This is called shallow copy."
   ]
  },
  {
   "cell_type": "code",
   "execution_count": 26,
   "metadata": {},
   "outputs": [],
   "source": [
    "new_list = my_list.copy()"
   ]
  },
  {
   "cell_type": "code",
   "execution_count": 27,
   "metadata": {},
   "outputs": [],
   "source": [
    "new_list.append('python')"
   ]
  },
  {
   "cell_type": "code",
   "execution_count": 28,
   "metadata": {},
   "outputs": [
    {
     "name": "stdout",
     "output_type": "stream",
     "text": [
      "Old List:  [5, 8, 7, 4, 3, 4, 2, 3, 1, 'a']\n",
      "New List:  [5, 8, 7, 4, 3, 4, 2, 3, 1, 'a', 'python']\n"
     ]
    }
   ],
   "source": [
    "print('Old List: ', my_list)\n",
    "print('New List: ', new_list)"
   ]
  },
  {
   "cell_type": "code",
   "execution_count": 29,
   "metadata": {},
   "outputs": [],
   "source": [
    "# copying a list using slicing same result as above\n",
    "new_list = my_list[:]"
   ]
  },
  {
   "cell_type": "markdown",
   "metadata": {},
   "source": [
    "### List Counting\n",
    "The method count() returns count of how many times obj occurs in list."
   ]
  },
  {
   "cell_type": "code",
   "execution_count": 31,
   "metadata": {},
   "outputs": [
    {
     "name": "stdout",
     "output_type": "stream",
     "text": [
      "Count for 3 :  2\n",
      "Count for 'a' :  1\n"
     ]
    }
   ],
   "source": [
    "print(\"Count for 3 : \", my_list.count(3))\n",
    "print (\"Count for 'a' : \", my_list.count('a'))"
   ]
  },
  {
   "cell_type": "markdown",
   "metadata": {},
   "source": [
    "### List Extending\n",
    "Extends list by appending elements from the iterable."
   ]
  },
  {
   "cell_type": "code",
   "execution_count": 42,
   "metadata": {},
   "outputs": [],
   "source": [
    "x = [1, 2, 3]"
   ]
  },
  {
   "cell_type": "code",
   "execution_count": 41,
   "metadata": {},
   "outputs": [
    {
     "name": "stdout",
     "output_type": "stream",
     "text": [
      "List Append:  [1, 2, 3, [4, 5]]\n"
     ]
    }
   ],
   "source": [
    "x.append([4, 5])\n",
    "print(\"List Append: \",x)"
   ]
  },
  {
   "cell_type": "code",
   "execution_count": 43,
   "metadata": {},
   "outputs": [
    {
     "name": "stdout",
     "output_type": "stream",
     "text": [
      "List Extend:  [1, 2, 3, 4, 5]\n"
     ]
    }
   ],
   "source": [
    "x.extend([4, 5])\n",
    "print(\"List Extend: \",x)"
   ]
  },
  {
   "cell_type": "markdown",
   "metadata": {},
   "source": [
    "### List Index\n",
    "The method index() returns the lowest index in list that obj appears.This method returns index of the found object otherwise raise an exception indicating that value does not find."
   ]
  },
  {
   "cell_type": "code",
   "execution_count": 46,
   "metadata": {},
   "outputs": [
    {
     "name": "stdout",
     "output_type": "stream",
     "text": [
      "Index for 3 :  4\n",
      "Index for a :  9\n"
     ]
    }
   ],
   "source": [
    "print(\"Index for 3 : \", my_list.index( 3 )) \n",
    "print(\"Index for a : \", my_list.index( 'a' )) "
   ]
  },
  {
   "cell_type": "markdown",
   "metadata": {},
   "source": [
    "###  List Insert\n",
    "The method insert() inserts object obj into list at offset index.This method does not return any value but it inserts the given element at the given index."
   ]
  },
  {
   "cell_type": "code",
   "execution_count": 48,
   "metadata": {},
   "outputs": [
    {
     "name": "stdout",
     "output_type": "stream",
     "text": [
      "Final List :  [321, 'xyz', 'zara', 2009, 'abc']\n"
     ]
    }
   ],
   "source": [
    "aList = [321, 'xyz', 'zara', 'abc']\n",
    "aList.insert( 3, 2009)\n",
    "print(\"Final List : \", aList)"
   ]
  },
  {
   "cell_type": "markdown",
   "metadata": {},
   "source": [
    "### List Pop\n",
    "The method pop() removes and returns last object or obj from the list.This method returns the removed object from the list."
   ]
  },
  {
   "cell_type": "code",
   "execution_count": 51,
   "metadata": {},
   "outputs": [
    {
     "name": "stdout",
     "output_type": "stream",
     "text": [
      "A List :  abc\n",
      "B List :  jose\n"
     ]
    }
   ],
   "source": [
    "aList = [123, 'xyz', 'jose', 'abc'];\n",
    "print (\"A List : \", aList.pop())\n",
    "print( \"B List : \", aList.pop(2))"
   ]
  },
  {
   "cell_type": "code",
   "execution_count": 52,
   "metadata": {},
   "outputs": [
    {
     "data": {
      "text/plain": [
       "[123, 'xyz']"
      ]
     },
     "execution_count": 52,
     "metadata": {},
     "output_type": "execute_result"
    }
   ],
   "source": [
    "aList"
   ]
  },
  {
   "cell_type": "markdown",
   "metadata": {},
   "source": [
    "### List Remove\n",
    "This method does not return any value but removes the given object from the list."
   ]
  },
  {
   "cell_type": "code",
   "execution_count": 54,
   "metadata": {},
   "outputs": [
    {
     "name": "stdout",
     "output_type": "stream",
     "text": [
      "List :  [123, 'ram', 'sham', 'vishnu']\n",
      "List :  [123, 'ram', 'vishnu']\n"
     ]
    }
   ],
   "source": [
    "aList = [123, 'ram', 'sham', 'vishnu', 'xyz'];\n",
    "aList.remove('xyz');\n",
    "print (\"List : \", aList)\n",
    "aList.remove('sham');\n",
    "print (\"List : \", aList)"
   ]
  },
  {
   "cell_type": "markdown",
   "metadata": {},
   "source": [
    "### Difference between pop() and remove()"
   ]
  },
  {
   "cell_type": "code",
   "execution_count": 56,
   "metadata": {},
   "outputs": [
    {
     "data": {
      "text/plain": [
       "[0, 3, 2]"
      ]
     },
     "execution_count": 56,
     "metadata": {},
     "output_type": "execute_result"
    }
   ],
   "source": [
    "#remove() removes the first matching value, not a specific index\n",
    "a = [0, 2, 3, 2]\n",
    "a.remove(2)\n",
    "a"
   ]
  },
  {
   "cell_type": "code",
   "execution_count": 58,
   "metadata": {},
   "outputs": [
    {
     "data": {
      "text/plain": [
       "[0, 2, 2]"
      ]
     },
     "execution_count": 58,
     "metadata": {},
     "output_type": "execute_result"
    }
   ],
   "source": [
    "#pop removes the item at a specific index and returns it\n",
    "a = [0, 2, 3, 2]\n",
    "a.pop(2)\n",
    "a"
   ]
  },
  {
   "cell_type": "markdown",
   "metadata": {},
   "source": [
    "### List Reverse\n",
    "The method reverse() reverses objects of list in place.This method does not return any value but reverse the given object from the list."
   ]
  },
  {
   "cell_type": "code",
   "execution_count": 59,
   "metadata": {},
   "outputs": [
    {
     "name": "stdout",
     "output_type": "stream",
     "text": [
      "List :  ['ram', 'abc', 'sham', 'ram', 123]\n"
     ]
    }
   ],
   "source": [
    "aList = [123, 'ram', 'sham', 'abc', 'ram'];\n",
    "aList.reverse();\n",
    "print (\"List : \", aList)"
   ]
  },
  {
   "cell_type": "markdown",
   "metadata": {},
   "source": [
    "### List Sort\n",
    "The method sort() sorts objects of list, use compare func if given.This method does not return any value but it changes from the original list."
   ]
  },
  {
   "cell_type": "code",
   "execution_count": 64,
   "metadata": {},
   "outputs": [],
   "source": [
    "aList = [ 'xyz', 'zara', 'abc', 'xyz']\n",
    "aList.sort()"
   ]
  },
  {
   "cell_type": "code",
   "execution_count": 65,
   "metadata": {},
   "outputs": [
    {
     "name": "stdout",
     "output_type": "stream",
     "text": [
      "List :  ['abc', 'xyz', 'xyz', 'zara']\n"
     ]
    }
   ],
   "source": [
    "print (\"List : \", aList)"
   ]
  }
 ],
 "metadata": {
  "kernelspec": {
   "display_name": "Python 3",
   "language": "python",
   "name": "python3"
  },
  "language_info": {
   "codemirror_mode": {
    "name": "ipython",
    "version": 3
   },
   "file_extension": ".py",
   "mimetype": "text/x-python",
   "name": "python",
   "nbconvert_exporter": "python",
   "pygments_lexer": "ipython3",
   "version": "3.6.4"
  }
 },
 "nbformat": 4,
 "nbformat_minor": 2
}
